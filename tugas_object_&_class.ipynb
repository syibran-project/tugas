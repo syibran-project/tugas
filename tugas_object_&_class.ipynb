{
  "nbformat": 4,
  "nbformat_minor": 0,
  "metadata": {
    "colab": {
      "provenance": [],
      "authorship_tag": "ABX9TyMENache9FZpdUPdjofI7Cn",
      "include_colab_link": true
    },
    "kernelspec": {
      "name": "python3",
      "display_name": "Python 3"
    },
    "language_info": {
      "name": "python"
    }
  },
  "cells": [
    {
      "cell_type": "markdown",
      "metadata": {
        "id": "view-in-github",
        "colab_type": "text"
      },
      "source": [
        "<a href=\"https://colab.research.google.com/github/syibran-project/tugas/blob/main/tugas_object_%26_class.ipynb\" target=\"_parent\"><img src=\"https://colab.research.google.com/assets/colab-badge.svg\" alt=\"Open In Colab\"/></a>"
      ]
    },
    {
      "cell_type": "code",
      "execution_count": 62,
      "metadata": {
        "colab": {
          "base_uri": "https://localhost:8080/"
        },
        "id": "wEdEDWycKfCQ",
        "outputId": "2f964d5f-ece2-4c79-e7b7-8416c812ac61"
      },
      "outputs": [
        {
          "output_type": "stream",
          "name": "stdout",
          "text": [
            "budi details:\n",
            "rambut:  ikal\n",
            "warna rambut:  hitam\n",
            "\n",
            "michael details:\n",
            "rambut:  lurus\n",
            "warna rambut:  pirang\n"
          ]
        }
      ],
      "source": [
        "# class variable\n",
        "class Person:\n",
        "\n",
        "    # the init method or constructor\n",
        "    def __init__(self, rambut, warna):\n",
        "\n",
        "        # instance variable\n",
        "        self.rambut = rambut\n",
        "        self.warna = warna\n",
        "\n",
        "# object\n",
        "budi = Person(\"ikal\", \"hitam\")\n",
        "michael = Person(\"lurus\", \"pirang\")\n",
        "\n",
        "print('budi details:')\n",
        "print('rambut: ', budi.rambut)\n",
        "print('warna rambut: ', budi.warna)\n",
        "\n",
        "print('\\nmichael details:')\n",
        "print('rambut: ', michael.rambut)\n",
        "print('warna rambut: ', michael.warna)\n"
      ]
    }
  ]
}